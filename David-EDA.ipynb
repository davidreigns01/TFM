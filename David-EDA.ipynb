{
 "cells": [
  {
   "cell_type": "markdown",
   "id": "ae0a550a-392c-41fe-9d65-544b253354f5",
   "metadata": {},
   "source": [
    "Este cuadernillo contiene todo el código empleado para realizar la parte de nuestro TFM relativa al análisis del dataset Youtube Video Trending Dataset. Incluye las siguientes secciones:\n",
    "\n",
    "- Instalación de subprogramas y librerías\n",
    "- Preprocesamiento de los datos\n",
    "- Obtención y análisis de características de los datos"
   ]
  },
  {
   "cell_type": "markdown",
   "id": "703c7448-7092-43ad-8681-929bc898204e",
   "metadata": {},
   "source": [
    "## Instalación de subprogramas y librerías"
   ]
  },
  {
   "cell_type": "code",
   "execution_count": 1,
   "id": "e9c58989-4c52-4957-a1d7-bcbd92f1e413",
   "metadata": {},
   "outputs": [],
   "source": [
    "import pandas as pd\n",
    "import matplotlib.pyplot as plt\n",
    "import numpy as np\n",
    "import seaborn as sns"
   ]
  },
  {
   "cell_type": "markdown",
   "id": "34aa6f51-dee8-437e-8790-c8e0334d7b63",
   "metadata": {},
   "source": [
    "## Preprocesamiento de datos"
   ]
  },
  {
   "cell_type": "code",
   "execution_count": 2,
   "id": "2b6b6b14-8b20-4f73-bfa8-eeed9198085c",
   "metadata": {},
   "outputs": [],
   "source": [
    "# PASO 1: LECTURA DEL ARCHIVO\n",
    "df = pd.read_csv(\"youtube_trending_videos_global.csv\", low_memory=False)"
   ]
  },
  {
   "cell_type": "code",
   "execution_count": 3,
   "id": "06eed97e-47bf-4b1e-973a-c8b3341110b1",
   "metadata": {},
   "outputs": [],
   "source": [
    "# El primer paso del preprocesado es eliminar columnas que consideramos innecesarias para el estudio. Estas son: \n",
    "# channel_id,video_dimension, channel_have_hidden_subscribers, channel_localized_title, channel_localized_description\n",
    "elim_columns = ['channel_id','video_dimension', 'channel_have_hidden_subscribers', 'channel_localized_title', 'channel_localized_description']\n",
    "df = df.drop(columns=elim_columns)"
   ]
  },
  {
   "cell_type": "code",
   "execution_count": 4,
   "id": "e2edbfa1-294a-4b29-8c1f-fc91ea328434",
   "metadata": {},
   "outputs": [],
   "source": [
    "#Debemos eliminar las filas con video_id nulo, ya que esa será la variable principal para la identificación de los vídeos.\n",
    "#Según los metadatos ofrecidos por Kaggle, hay 13 instancias de ese tipo.\n",
    "df = df.dropna(subset=['video_id'])"
   ]
  },
  {
   "cell_type": "code",
   "execution_count": 5,
   "id": "43bfad1b-38b1-48f7-bd52-b5e3eb4d598b",
   "metadata": {},
   "outputs": [],
   "source": [
    "#A continuación trataremos el resto de valores NaN.\n",
    "#Para columnas alfanuméricas (string), cambiar por \"\"\n",
    "#Para columnas numéricas,\n",
    "alfanumeric_values = {\"video_trending_country\": \"\", \"video_description\": \"\", \"video_category_id\": \"\", \"video_tags\": \"\"}\n",
    "\n",
    "#de momento no"
   ]
  },
  {
   "cell_type": "code",
   "execution_count": 6,
   "id": "62da9ca2-913d-42f9-b56e-1765be949c40",
   "metadata": {},
   "outputs": [],
   "source": [
    "#Guardamos el dataset resultante en un csv para evitar repetir el proceso\n",
    "df.to_csv('ytvg_clean.csv', index=False)"
   ]
  },
  {
   "cell_type": "code",
   "execution_count": 7,
   "id": "26d123ba-6d6c-418f-8840-62f92b72aa97",
   "metadata": {},
   "outputs": [],
   "source": [
    "#Creamos un dataset auxiliar que contenga solamente una instancia de cada vídeo. Es decir, deberá tener unas 180.000 instancias.\n",
    "df_unique = df.drop_duplicates(subset=['video_id'], keep='first')\n",
    "df_unique.to_csv('ytvg_unique.csv', index=False)"
   ]
  },
  {
   "cell_type": "markdown",
   "id": "0ad8f2b8-505a-4795-bb87-4c963955bda5",
   "metadata": {},
   "source": [
    "## Obtención y análisis de características"
   ]
  },
  {
   "cell_type": "code",
   "execution_count": null,
   "id": "794da8e8-68e7-44c5-bf97-6f33aa67a41b",
   "metadata": {},
   "outputs": [],
   "source": []
  }
 ],
 "metadata": {
  "kernelspec": {
   "display_name": "py39",
   "language": "python",
   "name": "py39"
  },
  "language_info": {
   "codemirror_mode": {
    "name": "ipython",
    "version": 3
   },
   "file_extension": ".py",
   "mimetype": "text/x-python",
   "name": "python",
   "nbconvert_exporter": "python",
   "pygments_lexer": "ipython3",
   "version": "3.9.6"
  }
 },
 "nbformat": 4,
 "nbformat_minor": 5
}
